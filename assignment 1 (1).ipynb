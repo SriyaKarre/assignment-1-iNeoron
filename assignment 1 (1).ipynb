{
 "cells": [
  {
   "cell_type": "markdown",
   "id": "b6967d4e",
   "metadata": {},
   "source": [
    "1. In the below elements which of them are values or an expression? eg:- values can be\n",
    "integer or string and expressions will be mathematical operators.\n",
    "*\n",
    "&#39;hello&#39;\n",
    "-87.8\n",
    "-\n",
    "/\n",
    "+\n",
    "6\n",
    "\n",
    "2. What is the difference between string and variable?\n",
    "\n",
    "3. Describe three different data types.\n",
    "\n",
    "4. What is an expression made up of? What do all expressions do?\n",
    "5. This assignment statements, like spam = 10. What is the difference between an\n",
    "expression and a statement?\n",
    "6. After running the following code, what does the variable bacon contain?\n",
    "bacon = 22\n",
    "bacon + 1\n",
    "\n",
    "7. What should the values of the following two terms be?\n",
    "&#39;spam&#39; + &#39;spamspam&#39;\n",
    "&#39;spam&#39; * 3\n",
    "\n",
    "8. Why is eggs a valid variable name while 100 is invalid?\n",
    "\n",
    "9. What three functions can be used to get the integer, floating-point number, or string\n",
    "version of a value?\n",
    "10. Why does this expression cause an error? How can you fix it?\n",
    "&#39;I have eaten &#39; + 99 + &#39; burritos.&#39;\n"
   ]
  },
  {
   "cell_type": "markdown",
   "id": "70a65e93",
   "metadata": {},
   "source": [
    "1.\"hello\"- it is a string\n",
    "  -87.8 - it is float value or negative float value\n",
    "  -  - it is arithmatic operator to subtract right operand by the left operand\n",
    "  /  - it is arithmatic operator to divide left operand by the right one\n",
    "  +  - it is also arithmatic operator to add two operands\n",
    "  6  - it is an integer\n",
    "2.A variable is a store of information,and a string is a type of informationyou would store in a variable,enclosed with \"\" \n",
    "  or \n",
    "  string a class reference datatype it is used to represent text type data.\n",
    "  variable is any alphabet or group of alphabet which work as temporary storage locations , a variable is used to represent any   value\n",
    "3.integer:it is a data type used to classify whole numbers.\n",
    "  strings:it is a datatype used to classify text.\n",
    "  float:it is a data type used to classify numbers with a decimal point.\n",
    "4.An expression is a construct made up of variable,operators,and method invocations,which are constructed according to the         syntax of the language, that evaluates to a single value.\n",
    "5.An expression is made up of values,cpntainers,and mathematical operators and the statements is just like commands that python   interpreter execute like print.\n",
    "6.bacon=22\n",
    "  bacon+1\n",
    "  it gives 23 as execution code.\n"
   ]
  },
  {
   "cell_type": "code",
   "execution_count": 1,
   "id": "ed7e6799",
   "metadata": {},
   "outputs": [],
   "source": [
    "bacon=22"
   ]
  },
  {
   "cell_type": "code",
   "execution_count": 2,
   "id": "c040cd05",
   "metadata": {},
   "outputs": [
    {
     "data": {
      "text/plain": [
       "23"
      ]
     },
     "execution_count": 2,
     "metadata": {},
     "output_type": "execute_result"
    }
   ],
   "source": [
    "bacon+1"
   ]
  },
  {
   "cell_type": "markdown",
   "id": "28de7cc9",
   "metadata": {},
   "source": [
    "7.\"spam\"+\"spamspam\"\n",
    "  \"spam\"*3\n",
    "   it will give the same \n",
    "   \"spamspamspam\""
   ]
  },
  {
   "cell_type": "code",
   "execution_count": 3,
   "id": "5b0b0735",
   "metadata": {},
   "outputs": [
    {
     "data": {
      "text/plain": [
       "'spamspamspam'"
      ]
     },
     "execution_count": 3,
     "metadata": {},
     "output_type": "execute_result"
    }
   ],
   "source": [
    "\"spam\"+\"spamspam\""
   ]
  },
  {
   "cell_type": "code",
   "execution_count": 4,
   "id": "8a39f97c",
   "metadata": {},
   "outputs": [
    {
     "data": {
      "text/plain": [
       "'spamspamspam'"
      ]
     },
     "execution_count": 4,
     "metadata": {},
     "output_type": "execute_result"
    }
   ],
   "source": [
    "\"spam\"*3"
   ]
  },
  {
   "cell_type": "markdown",
   "id": "67cbd4f5",
   "metadata": {},
   "source": [
    "8.because we can't start giving variable an integer . if we, we should begin with , a string-like alphabet name then               integer.e100 or egggs100 is valid.\n",
    "9.str(),int(),float()\n",
    "10.because 99 is an integer it cannot be concatenated with string ."
   ]
  },
  {
   "cell_type": "markdown",
   "id": "e904125f",
   "metadata": {},
   "source": []
  },
  {
   "cell_type": "markdown",
   "id": "6f255188",
   "metadata": {},
   "source": []
  }
 ],
 "metadata": {
  "kernelspec": {
   "display_name": "Python 3 (ipykernel)",
   "language": "python",
   "name": "python3"
  },
  "language_info": {
   "codemirror_mode": {
    "name": "ipython",
    "version": 3
   },
   "file_extension": ".py",
   "mimetype": "text/x-python",
   "name": "python",
   "nbconvert_exporter": "python",
   "pygments_lexer": "ipython3",
   "version": "3.9.7"
  }
 },
 "nbformat": 4,
 "nbformat_minor": 5
}
